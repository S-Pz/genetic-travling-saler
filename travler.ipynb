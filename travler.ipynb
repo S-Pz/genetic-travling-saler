{
 "cells": [
  {
   "cell_type": "code",
   "execution_count": null,
   "metadata": {},
   "outputs": [],
   "source": [
    "from random import randint, shuffle"
   ]
  },
  {
   "cell_type": "code",
   "execution_count": null,
   "metadata": {},
   "outputs": [],
   "source": [
    "n_cid = 100\n",
    "n_pop = 500"
   ]
  },
  {
   "cell_type": "code",
   "execution_count": null,
   "metadata": {},
   "outputs": [],
   "source": [
    "def criar_grafo(n): \n",
    "    grafo = [[0 for _ in range(n)] for _ in range(n)]\n",
    "    for i in range(n):\n",
    "        for j in range(n):\n",
    "            if i == j:\n",
    "                grafo[i][j] = 0\n",
    "            else:\n",
    "                dist = randint(0, 200)\n",
    "                grafo[i][j] = dist \n",
    "                grafo[j][i] = dist\n",
    "    return grafo"
   ]
  },
  {
   "cell_type": "code",
   "execution_count": null,
   "metadata": {},
   "outputs": [],
   "source": [
    "def printGrafo(grafo):\n",
    "    for j in range (n_cid):\n",
    "        print(\"     \",j, end='\\t')\n",
    "    print()\n",
    "    print()\n",
    "    \n",
    "    for i in range(n_cid):\n",
    "        print(i, end='\\t')\n",
    "        for j in range(n_cid):\n",
    "            print(grafo[i][j], end='\\t')\n",
    "        print()\n",
    "    print()\n"
   ]
  },
  {
   "cell_type": "code",
   "execution_count": null,
   "metadata": {},
   "outputs": [],
   "source": [
    "def criar_populacao():\n",
    "    matriz_pop = [[j for j in range(n_cid)] for _ in range(n_pop)]\n",
    "    for i in range(n_pop):\n",
    "        shuffle(matriz_pop[i])\n",
    "    return matriz_pop"
   ]
  },
  {
   "cell_type": "code",
   "execution_count": null,
   "metadata": {},
   "outputs": [],
   "source": [
    "def printPopulacao(populacao):\n",
    "    for i in range(n_pop):\n",
    "        print(populacao[i])\n",
    "    print()"
   ]
  },
  {
   "cell_type": "code",
   "execution_count": null,
   "metadata": {},
   "outputs": [],
   "source": [
    "def avaliacao(populacao, grafo):\n",
    "    notas = []\n",
    "    for i in range(n_pop):\n",
    "        distancia = 0\n",
    "        for j in range(n_cid-1):\n",
    "            cid_a = populacao[i][j]\n",
    "            cid_b = populacao[i][j+1]\n",
    "            distancia += grafo[cid_a][cid_b] \n",
    "        notas.append(distancia)\n",
    "    return notas"
   ]
  },
  {
   "cell_type": "code",
   "execution_count": null,
   "metadata": {},
   "outputs": [],
   "source": [
    "def printAvaliacao(fit):\n",
    "    for i in range(n_pop):\n",
    "        print(fit[i])\n",
    "    print()"
   ]
  },
  {
   "cell_type": "code",
   "execution_count": null,
   "metadata": {},
   "outputs": [],
   "source": [
    "def printFitPop(populacao, fit):\n",
    "    for i in range(n_pop):\n",
    "        print(populacao[i], fit[i])\n",
    "    print()"
   ]
  },
  {
   "cell_type": "code",
   "execution_count": null,
   "metadata": {},
   "outputs": [],
   "source": [
    "def torneio(notas):\n",
    "    n_pais = 5\n",
    "    pais = []\n",
    "    for i in range(n_pop):\n",
    "        selecionados = []\n",
    "        for j in range(n_pais):\n",
    "            aleatorio = randint(0, n_pop - 1)\n",
    "            selecionados.append(notas[aleatorio])\n",
    "        selecionados.sort()\n",
    "        pais.append(selecionados[0])\n",
    "    return pais "
   ]
  },
  {
   "cell_type": "code",
   "execution_count": null,
   "metadata": {},
   "outputs": [],
   "source": [
    "def printPai(pais):\n",
    "    print(pais)"
   ]
  },
  {
   "cell_type": "code",
   "execution_count": null,
   "metadata": {},
   "outputs": [],
   "source": [
    "def indice_pais(pais, notas):\n",
    "    indices = []\n",
    "    for i in range(n_pop):\n",
    "        if pais[i] in notas:\n",
    "            indices.append(notas.index(pais[i]))\n",
    "    return indices"
   ]
  },
  {
   "cell_type": "code",
   "execution_count": null,
   "metadata": {},
   "outputs": [],
   "source": [
    "def printIndices(indices):\n",
    "    print(indices)"
   ]
  },
  {
   "cell_type": "code",
   "execution_count": null,
   "metadata": {},
   "outputs": [],
   "source": [
    "def crossover(populacao, indice):\n",
    "    newpop = []\n",
    "\n",
    "    j = n_pop\n",
    "    for i in range(int(n_pop/2)):\n",
    "        child1 = []\n",
    "        child2 = []\n",
    "        childP1 = []\n",
    "        childP2 = []\n",
    "        parent1 = []\n",
    "        parent2 = []\n",
    "        j -= 1\n",
    "        parent1 = populacao[indice[i]]\n",
    "        parent2 = populacao[indice[j]]\n",
    "\n",
    "        geneA = randint(0, n_cid)\n",
    "        geneB = randint(0, n_cid)\n",
    "\n",
    "        startGene = min(geneA, geneB)\n",
    "        endGene = max(geneA, geneB)\n",
    "\n",
    "        for x in range(startGene, endGene):\n",
    "            childP1.append(parent1[x])\n",
    "            childP2.append(parent2[x])\n",
    "            \n",
    "\n",
    "        newchildP1 = [item for item in parent2 if item not in childP1]\n",
    "        newchildP2 = [item for item in parent1 if item not in childP2]\n",
    "        child1 = childP1 + newchildP1\n",
    "        child2 = childP2 + newchildP2\n",
    "        \n",
    "        newpop.append(child1)\n",
    "        newpop.append(child2)\n",
    "\n",
    "    return newpop\n"
   ]
  },
  {
   "cell_type": "code",
   "execution_count": null,
   "metadata": {},
   "outputs": [],
   "source": [
    "def printFilhos(filhos):\n",
    "    for i in range(n_pop):\n",
    "        print(filhos[i])\n"
   ]
  },
  {
   "cell_type": "code",
   "execution_count": null,
   "metadata": {},
   "outputs": [],
   "source": [
    "def printParents(populacao, indice): \n",
    "    for i in range(n_pop):\n",
    "        print(populacao[indice[i]])\n",
    "    print()"
   ]
  }
 ],
 "metadata": {
  "language_info": {
   "name": "python"
  },
  "orig_nbformat": 4
 },
 "nbformat": 4,
 "nbformat_minor": 2
}
